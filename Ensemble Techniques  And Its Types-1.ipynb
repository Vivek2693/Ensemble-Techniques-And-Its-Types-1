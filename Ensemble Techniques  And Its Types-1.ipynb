{
 "cells": [
  {
   "cell_type": "markdown",
   "id": "daf59ea2",
   "metadata": {},
   "source": [
    "## Q1. What is an ensemble techni## Que in machine learning?\n",
    "Ensemble techni## Ques combine multiple individual models to improve the overall performance of a machine learning algorithm.\n",
    "\n",
    "## Q2. Why are ensemble techni## Ques used in machine learning?\n",
    "Ensemble techni## Ques are used to improve predictive performance, increase robustness, and reduce overfitting in machine learning models.\n",
    "\n",
    "## Q3. What is bagging?\n",
    "Bagging (Bootstrap Aggregating) is an ensemble techni## Que where multiple bootstrapped samples of the training dataset are created, and a separate model is trained on each sample.\n",
    "\n",
    "## Q4. What is boosting?\n",
    "Boosting is another ensemble techni## Que where multiple weak learners are combined se## Quentially to create a strong learner.\n",
    "\n",
    "## Q5. What are the benefits of using ensemble techni## Ques?\n",
    "Some benefits of using ensemble techni## Ques include improved predictive accuracy, increased robustness against overfitting, and better generalization to unseen data.\n",
    "\n",
    "## Q6. Are ensemble techni## Ques always better than individual models?\n",
    "Ensemble techni## Ques are not always guaranteed to outperform individual models, but they often do in practice, especially when the individual models are diverse and complementary to each other.\n",
    "\n",
    "## Q7. How is the confidence interval calculated using bootstrap?\n",
    "The confidence interval using bootstrap is calculated by resampling the original dataset with replacement to create multiple bootstrap samples.\n",
    "\n",
    "## Q8. How does bootstrap work and what are the steps involved in bootstrap?\n",
    "Bootstrap is a resampling techni## Que used to estimate the sampling distribution of a statistic by repeatedly sampling from the observed data with replacement.\n",
    "\n",
    "## Q9. A researcher wants to estimate the mean height of a population of trees. They measure the height of a\n",
    "sample of 50 trees and obtain a mean height of 15 meters and a standard deviation of 2 meters. Use\n",
    "bootstrap to estimate the 95% confidence interval for the population mean height.\n",
    "Given the sample mean height of 15 meters and a standard deviation of 2 meters for a sample of 50 trees, you would: (followed by the explanation and code example)\n",
    "\n",
    "\n",
    "\n",
    "\n",
    "\n"
   ]
  },
  {
   "cell_type": "code",
   "execution_count": 1,
   "id": "c01e2ddb",
   "metadata": {},
   "outputs": [
    {
     "name": "stdout",
     "output_type": "stream",
     "text": [
      "95% Confidence Interval for the Population Mean Height:\n",
      "Lower Bound: 14.440140735092882\n",
      "Upper Bound: 15.565487162819366\n"
     ]
    }
   ],
   "source": [
    "import numpy as np\n",
    "\n",
    "# Sample data\n",
    "sample_mean = 15  # Mean height of the sample\n",
    "sample_std = 2  # Standard deviation of the sample\n",
    "sample_size = 50  # Sample size\n",
    "\n",
    "# Number of bootstrap samples\n",
    "num_bootstraps = 1000\n",
    "\n",
    "# Generate bootstrap samples\n",
    "bootstrap_means = []\n",
    "for _ in range(num_bootstraps):\n",
    "    # Resample with replacement from the original sample\n",
    "    bootstrap_sample = np.random.normal(sample_mean, sample_std, sample_size)\n",
    "    # Calculate the mean height for the bootstrap sample\n",
    "    bootstrap_mean = np.mean(bootstrap_sample)\n",
    "    bootstrap_means.append(bootstrap_mean)\n",
    "\n",
    "# Compute the 95% confidence interval\n",
    "confidence_interval = np.percentile(bootstrap_means, [2.5, 97.5])\n",
    "\n",
    "print(\"95% Confidence Interval for the Population Mean Height:\")\n",
    "print(\"Lower Bound:\", confidence_interval[0])\n",
    "print(\"Upper Bound:\", confidence_interval[1])\n"
   ]
  },
  {
   "cell_type": "code",
   "execution_count": null,
   "id": "df3a63b4",
   "metadata": {},
   "outputs": [],
   "source": []
  },
  {
   "cell_type": "code",
   "execution_count": null,
   "id": "a133476d",
   "metadata": {},
   "outputs": [],
   "source": []
  },
  {
   "cell_type": "code",
   "execution_count": null,
   "id": "8bffce8c",
   "metadata": {},
   "outputs": [],
   "source": []
  },
  {
   "cell_type": "code",
   "execution_count": null,
   "id": "e7f2d991",
   "metadata": {},
   "outputs": [],
   "source": []
  },
  {
   "cell_type": "code",
   "execution_count": null,
   "id": "3bc13a52",
   "metadata": {},
   "outputs": [],
   "source": []
  },
  {
   "cell_type": "code",
   "execution_count": null,
   "id": "af6f1735",
   "metadata": {},
   "outputs": [],
   "source": []
  }
 ],
 "metadata": {
  "kernelspec": {
   "display_name": "Python 3 (ipykernel)",
   "language": "python",
   "name": "python3"
  },
  "language_info": {
   "codemirror_mode": {
    "name": "ipython",
    "version": 3
   },
   "file_extension": ".py",
   "mimetype": "text/x-python",
   "name": "python",
   "nbconvert_exporter": "python",
   "pygments_lexer": "ipython3",
   "version": "3.10.9"
  }
 },
 "nbformat": 4,
 "nbformat_minor": 5
}
